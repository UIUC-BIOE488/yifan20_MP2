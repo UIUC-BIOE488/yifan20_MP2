{
 "cells": [
  {
   "cell_type": "markdown",
   "metadata": {},
   "source": [
    "# MP2 - Deconvolution\n",
    "\n",
    "----------------\n",
    "\n",
    "# Contents:\n",
    "- **2D Deconvolution using Richardson-Lucy (RL) Algorithm [45 points]**\n",
    "    - Implement RL algorithm [30]\n",
    "    - Apply and visualize (2D astro image) [5]\n",
    "    - Find plausible PSF for a given noisy brain image, comment, and plot [10]\n",
    "- **3D Convolution [35 points]**\n",
    "    - Implement 3D convolution [30]\n",
    "    - Compare implementation with scipy [5]\n",
    "- **3D Deconvolution using RL Algorithm [20 points]**\n",
    "    - Implement 3D RL algorithm [15]\n",
    "    - Apply and visualize (3D brain volumes) [5]\n",
    "----------------"
   ]
  },
  {
   "cell_type": "markdown",
   "metadata": {
    "id": "FQxEbi-lfNWJ"
   },
   "source": [
    "# [Section] 2D Deconvolution using Richardson-Lucy (RL) Algorithm [45 points]"
   ]
  },
  {
   "cell_type": "code",
   "execution_count": null,
   "metadata": {
    "colab": {
     "base_uri": "https://localhost:8080/"
    },
    "id": "seoU5cldfLgw",
    "outputId": "f6064e13-5fd7-4b25-e38b-d4c18b98598b"
   },
   "outputs": [],
   "source": [
    "!pip install scikit-image\n",
    "!curl https://upload.wikimedia.org/wikipedia/commons/0/03/T1-weighted-MRI.png --output brain_MRI.png"
   ]
  },
  {
   "cell_type": "markdown",
   "metadata": {},
   "source": [
    "## Put your ```convolution2d``` function from MP1 in the cell below\n"
   ]
  },
  {
   "cell_type": "code",
   "execution_count": null,
   "metadata": {},
   "outputs": [],
   "source": [
    "def convolve2D(image, kernel, padding=0, strides=1):\n",
    "    '''\n",
    "    Returns the result Y = image * kernel, where * is the 2-D convolution operator.\n",
    "\n",
    "        Parameters:\n",
    "                image (ndarray): 2-D input image/signal\n",
    "                kernel (ndarray): 2-D convolution kernel/signal\n",
    "\n",
    "        Returns:\n",
    "                Y (ndarray): 2-D convolution result similar to \"same\" mode in scipy/numpy.\n",
    "    '''\n",
    "    return"
   ]
  },
  {
   "cell_type": "markdown",
   "metadata": {},
   "source": [
    "### [Exercise] Implement the Richardson-Lucy deconvolution algorithm [30]\n",
    "You should use your `convolve2D` function in the implementation. \n",
    "\n",
    "**Hint:** Make sure to use 'same' padding so that the convolution result has the same shape after each iteration."
   ]
  },
  {
   "cell_type": "code",
   "execution_count": null,
   "metadata": {
    "id": "H6N68s7CfX6A"
   },
   "outputs": [],
   "source": [
    "from scipy.signal import convolve\n",
    "\n",
    "def richardson_lucy(image, psf, num_iter=50, eps=1e-12):\n",
    "    \"\"\"\n",
    "    Richardson-Lucy deconvolution.\n",
    "    \n",
    "    ----------\n",
    "    input:\n",
    "    image (Numpy.Array): Input degraded image (can be N dimensional).\n",
    "    psf (ndarray): The point spread function.\n",
    "    num_iter (int): Number of iterations. This parameter plays the role of regularisation. default to 50.\n",
    "    eps (float): Optional. Value below which intermediate results become 0 to avoid division by small numbers.\n",
    "\n",
    "    output: (Numpy.Array) The deconvolved image.\n",
    "    \"\"\"\n",
    "    return"
   ]
  },
  {
   "cell_type": "markdown",
   "metadata": {},
   "source": [
    "Now let's try your R-L algorithm. First, load an image in grayscale."
   ]
  },
  {
   "cell_type": "code",
   "execution_count": null,
   "metadata": {
    "colab": {
     "base_uri": "https://localhost:8080/",
     "height": 320
    },
    "id": "HXMnDYnieCAS",
    "outputId": "96e5c865-07c9-44f8-82fd-c222c2b31a7b"
   },
   "outputs": [],
   "source": [
    "import numpy as np\n",
    "import matplotlib.pyplot as plt\n",
    "\n",
    "from scipy.signal import convolve2d as conv2\n",
    "\n",
    "from skimage import color, data\n",
    "\n",
    "rng = np.random.default_rng()\n",
    "\n",
    "astro = color.rgb2gray(data.astronaut())"
   ]
  },
  {
   "cell_type": "markdown",
   "metadata": {},
   "source": [
    "Now manually add convolutional optical noise to the image by convolving the image with a point spread function (psf). Then add poisson noise to it.\n"
   ]
  },
  {
   "cell_type": "code",
   "execution_count": null,
   "metadata": {},
   "outputs": [],
   "source": [
    "psf = np.ones((5, 5)) / 25\n",
    "astro = conv2(astro, psf, 'same')\n",
    "\n",
    "# add Noise to Image\n",
    "astro_noisy = astro.copy()\n",
    "astro_noisy += (rng.poisson(lam=25, size=astro.shape) - 10) / 255."
   ]
  },
  {
   "cell_type": "markdown",
   "metadata": {},
   "source": [
    "### [Exercise] Now apply the Richardson Lucy deconvolution algorithm, and plot the original image, the image with noise, and the deconvolution result. [5]"
   ]
  },
  {
   "cell_type": "code",
   "execution_count": null,
   "metadata": {},
   "outputs": [],
   "source": [
    "# Restore noisy image using Richardson-Lucy algorithm\n",
    "deconvolved_RL = ...\n",
    "\n",
    "# Plot 1) original image, 2) noisy image, 3) deconvolution result side-by-side"
   ]
  },
  {
   "cell_type": "markdown",
   "metadata": {},
   "source": [
    "Now that we have seen the power of the Richardson Lucy algorithm with artificial/known noise, let's try it out on an image with real unknown noise."
   ]
  },
  {
   "cell_type": "code",
   "execution_count": null,
   "metadata": {
    "colab": {
     "base_uri": "https://localhost:8080/"
    },
    "id": "8dzH-dLwgtR2",
    "outputId": "b640cefa-ea7e-4b25-b2d6-c1567ee628d4"
   },
   "outputs": [],
   "source": [
    "import PIL\n",
    "brain = np.array(PIL.Image.open(\"brain_MRI.png\"))\n",
    "\n",
    "if len(brain.shape) > 2: # check if the picture has multiple color channels. If yes, convert to greyscale\n",
    "    brain = color.rgb2gray(brain) \n",
    "    \n",
    "brain = brain / 256.  # normalize the image pixel data to [0,1]\n",
    "brain += 1E-12 # adding a small constant 1E-12 to avoid division-by-zero later down the line"
   ]
  },
  {
   "cell_type": "markdown",
   "metadata": {},
   "source": [
    "### [Exercise] Since we do not know the real psf function in this case, we have to make a guess. Find the psf function which best models the real convolutional noise by trying different psf values in the cell below. [10]"
   ]
  },
  {
   "cell_type": "code",
   "execution_count": null,
   "metadata": {
    "colab": {
     "base_uri": "https://localhost:8080/",
     "height": 933
    },
    "id": "X6QfAY_ihKC3",
    "outputId": "22be48d7-9344-4738-ca58-d707aca3524d"
   },
   "outputs": [],
   "source": [
    "psf = ...\n",
    "deconvolved_brain = ...\n",
    "\n",
    "# visualize original and deconv output side-by-side "
   ]
  },
  {
   "cell_type": "markdown",
   "metadata": {},
   "source": [
    "**Q:** What did you observe when trying different point spread functions? Can you explain your observations?\n",
    "\n",
    "**Your Answer:**"
   ]
  },
  {
   "cell_type": "markdown",
   "metadata": {},
   "source": [
    "--------------------\n",
    "# [Section] 3D Convolution [35 points]\n",
    "\n",
    "Now let's apply the Richardson-Lucy algorithm in the 3-D space. "
   ]
  },
  {
   "cell_type": "code",
   "execution_count": null,
   "metadata": {},
   "outputs": [],
   "source": [
    "import matplotlib.pyplot as plt\n",
    "import numpy as np\n",
    "from scipy.signal import convolve as scipy_convolve"
   ]
  },
  {
   "cell_type": "markdown",
   "metadata": {},
   "source": [
    "### [Exercise] Implement the 3D convolution [30]\n",
    "\n",
    "First, implement the 3-D convolution function in the cell below. Your implementation must support arbitrary padding modes."
   ]
  },
  {
   "cell_type": "code",
   "execution_count": null,
   "metadata": {},
   "outputs": [],
   "source": [
    "def convolve3D(image, kernel, padding=0):\n",
    "    '''\n",
    "    convolve3D takes in the image array and the kernel array and convolves them\n",
    "    with the padding scheme specified by parameter \"padding\"\n",
    "\n",
    "    Input:\n",
    "    image (Numpy.Array): 3-D image to be convolved\n",
    "    kernel (Numpy.Array): 3-D kernel to be convolved\n",
    "    padding (int): padding mode. default is 0\n",
    "\n",
    "    Output:\n",
    "    result (Numpy.Array): result of the convolution between image and kernel\n",
    "    '''\n",
    "\n",
    "    return"
   ]
  },
  {
   "cell_type": "markdown",
   "metadata": {},
   "source": [
    "### [Exercise] Test your 3-D convolution function in the cell below. [5]"
   ]
  },
  {
   "cell_type": "code",
   "execution_count": null,
   "metadata": {},
   "outputs": [],
   "source": [
    "A = np.random.randint(0, 100, size=(30, 10, 18))\n",
    "B = np.random.randint(0, 100, size=(5, 5, 3))\n",
    "\n",
    "print(\"Correct (Scipy) Result:\")\n",
    "scipy_result = scipy_convolve(...)\n",
    "print(np_result)\n",
    "\n",
    "print()\n",
    "\n",
    "print(\"Your Answer:\")\n",
    "your_result = ....\n",
    "print(your_result)\n",
    "\n",
    "print(\"\\nYour result is {}\".format(\"correct!\" if np.array_equal(\n",
    "    scipy_result, your_result) else \"incorrect.\"))"
   ]
  },
  {
   "cell_type": "markdown",
   "metadata": {},
   "source": [
    "You are encouraged to try different kernel sizes and padding modes to ensure your implementation is robust and general."
   ]
  },
  {
   "cell_type": "markdown",
   "metadata": {},
   "source": [
    "--------------\n",
    "\n",
    "# [Section] 3D Deconvolution using RL Algorithm [20 points]"
   ]
  },
  {
   "cell_type": "markdown",
   "metadata": {},
   "source": [
    "### [Exercise] Now with the 3D convolution function, implement the 3D Richardson-Lucy deconvolution algorithm. If your 3D convolution function does not work, use a library implementation instead. [15]"
   ]
  },
  {
   "cell_type": "code",
   "execution_count": null,
   "metadata": {},
   "outputs": [],
   "source": [
    "def richardson_lucy_3d(image, psf, padding, num_iter=30, eps=1e-12):\n",
    "    \"\"\"Richardson-Lucy deconvolution.\n",
    "    Parameters\n",
    "    ----------\n",
    "    image : ndarray\n",
    "      Input degraded image (can be N dimensional).\n",
    "    psf : ndarray\n",
    "      The point spread function.\n",
    "    eps: float, optional\n",
    "      Value below which intermediate results become 0 to avoid division\n",
    "      by small numbers.\n",
    "    padding: int\n",
    "      Value depends on size of psf used. Use the padding size in the \"same\" padding mode.\n",
    "    num_iter : int, optional\n",
    "      Number of iterations. This parameter plays the role of\n",
    "      regularisation.\n",
    "    Returns\n",
    "    -------\n",
    "    im_deconv : ndarray\n",
    "      The deconvolved image.\n",
    "    \"\"\"\n",
    "    return im_deconv"
   ]
  },
  {
   "cell_type": "code",
   "execution_count": null,
   "metadata": {},
   "outputs": [],
   "source": [
    "import nibabel as nib\n",
    "from skimage import color\n",
    "\n",
    "!wget https://github.com/vb100/Visualize-3D-MRI-Scans-Brain-case/raw/master/data/images/BRATS_001.nii.gz"
   ]
  },
  {
   "cell_type": "code",
   "execution_count": null,
   "metadata": {},
   "outputs": [],
   "source": [
    "image_path = \"BRATS_001.nii.gz\"\n",
    "image_obj = nib.load(image_path)\n",
    "image_data = image_obj.get_fdata()\n",
    "type(image_data)\n",
    "print(image_data.shape)\n",
    "image_data_by_channel = np.array([image_data[:, :, :, i] for i in range(4)])\n",
    "print(image_data_by_channel.shape)"
   ]
  },
  {
   "cell_type": "markdown",
   "metadata": {},
   "source": [
    "The amount of computation in 3D deconvolution / convolution is exponentially higher than in the 2D space. To save some time, let's shrink the image by downsampling it to a factor of 0.7 in the cell below. You may choose different factors to test your implementation faster."
   ]
  },
  {
   "cell_type": "code",
   "execution_count": null,
   "metadata": {},
   "outputs": [],
   "source": [
    "from scipy.ndimage import zoom\n",
    "\n",
    "image_data_by_channel = np.array(\n",
    "    [zoom(channel, (0.7, 0.7, 0.7)) for channel in image_data_by_channel])"
   ]
  },
  {
   "cell_type": "code",
   "execution_count": null,
   "metadata": {},
   "outputs": [],
   "source": [
    "rng = np.random.default_rng()\n",
    "\n",
    "psf = np.ones((5, 5, 5)) / 125\n",
    "\n",
    "convolved_by_channel = [scipy_convolve(\n",
    "    channel_slice, psf) for channel_slice in image_data_by_channel]\n",
    "\n",
    "noisy_by_channel = convolved_by_channel.copy()\n",
    "\n",
    "noisy_by_channel = [channel_slice + (rng.poisson(lam=125, size=channel_slice.shape) - 10 / 255)\n",
    "                    for channel_slice in noisy_by_channel]"
   ]
  },
  {
   "cell_type": "markdown",
   "metadata": {},
   "source": [
    "### [EXERCISE] Finally, let's apply your 3-D Richardson-Lucy deconvolution implementation to the noisy volumetric brain image.[5]"
   ]
  },
  {
   "cell_type": "markdown",
   "metadata": {},
   "source": [
    "**(Warning - num_iter=1 in the cell below may take 3-6mins to run!)**"
   ]
  },
  {
   "cell_type": "code",
   "execution_count": null,
   "metadata": {},
   "outputs": [],
   "source": [
    "num_iter = ...\n",
    "\n",
    "deconvolved_result = ..."
   ]
  },
  {
   "cell_type": "code",
   "execution_count": null,
   "metadata": {},
   "outputs": [],
   "source": [
    "def display_deconvolution_comparison(layer_idx, channel_slice_idx):\n",
    "    '''\n",
    "    Display the original, noisy, and deconvolved image side-by-side given a particular 2D slice of the 4D brain image dataset.\n",
    "    '''\n",
    "    return\n",
    "\n",
    "layer_idx = ...\n",
    "channel_slice_idx = ...\n",
    "display_deconvolution_comparison(layer_idx, channel_slice_idx)"
   ]
  },
  {
   "cell_type": "markdown",
   "metadata": {},
   "source": [
    "-----------"
   ]
  }
 ],
 "metadata": {
  "colab": {
   "collapsed_sections": [],
   "name": "deconvolution.ipynb",
   "provenance": []
  },
  "kernelspec": {
   "display_name": "Python 3 (ipykernel)",
   "language": "python",
   "name": "python3"
  },
  "language_info": {
   "codemirror_mode": {
    "name": "ipython",
    "version": 3
   },
   "file_extension": ".py",
   "mimetype": "text/x-python",
   "name": "python",
   "nbconvert_exporter": "python",
   "pygments_lexer": "ipython3",
   "version": "3.9.5"
  },
  "toc-autonumbering": false,
  "vscode": {
   "interpreter": {
    "hash": "353902f3f2f769574ee6d5e609f500cb3c8385ac61494244183cc0b6ad3e28b3"
   }
  }
 },
 "nbformat": 4,
 "nbformat_minor": 4
}
